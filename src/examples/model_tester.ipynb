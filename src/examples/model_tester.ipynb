{
 "cells": [
  {
   "cell_type": "code",
   "execution_count": 1,
   "metadata": {},
   "outputs": [
    {
     "name": "stdout",
     "output_type": "stream",
     "text": [
      "This directory already exist\n",
      "Using existed directory.\n"
     ]
    }
   ],
   "source": [
    "import argparse\n",
    "import sys, os\n",
    "import time\n",
    "import json\n",
    "\n",
    "sys.path.append(os.path.join(sys.path[0], '/home/ibespalov/StyleGAN_DA/'))\n",
    "sys.path.append(os.path.join(sys.path[0], '/home/ibespalov/StyleGAN_DA/gans/'))\n",
    "sys.path.append(os.path.join(sys.path[0], '/home/ibespalov/StyleGAN_DA/src/'))\n",
    "\n",
    "from itertools import chain\n",
    "\n",
    "from torch.optim.adam import Adam\n",
    "from torch.utils.tensorboard import SummaryWriter\n",
    "from torchvision.utils import make_grid\n",
    "from torch import Tensor, nn\n",
    "\n",
    "from src.examples.autoencoder_penalty import DecoderPenalty, EncoderPenalty\n",
    "from gan.loss.stylegan import StyleGANLoss\n",
    "from gan.models.stylegan import StyleGanModel\n",
    "from src.examples.style_progressive import StyleDisc, StyleTransform\n",
    "from gan.loss.loss_base import Loss\n",
    "from gan.loss.perceptual.psp import PSPLoss\n",
    "from gan.nn.stylegan.generator import Decoder, Generator, FromStyleConditionalGenerator\n",
    "from gan.nn.stylegan.style_encoder import GradualStyleEncoder\n",
    "from parameters.run import RuntimeParameters\n",
    "\n",
    "sys.path.append(os.path.join(sys.path[0], '../'))\n",
    "sys.path.append(os.path.join(sys.path[0], '../../gans/'))\n",
    "import torch\n",
    "from dataset.lazy_loader import LazyLoader\n",
    "from parameters.path import Paths\n"
   ]
  },
  {
   "cell_type": "code",
   "execution_count": 2,
   "metadata": {},
   "outputs": [],
   "source": [
    "import nibabel as nib\n",
    "import numpy as np\n",
    "import glob\n",
    "import os\n",
    "from tqdm import tqdm\n",
    "import shutil\n",
    "import pandas as pd\n",
    "from torchvision import transforms\n",
    "from PIL import Image\n",
    "\n",
    "import torch\n",
    "from matplotlib import pyplot as plt\n",
    "from dpipe.im.shape_ops import zoom\n"
   ]
  },
  {
   "cell_type": "code",
   "execution_count": 3,
   "metadata": {},
   "outputs": [],
   "source": [
    "def get_dataset_files(path, domain_name, gender='*'):\n",
    "    if type(domain_name) == 'str':\n",
    "        return glob.glob(path + f'*{domain_name}*{gender}.nii.gz')\n",
    "    else:\n",
    "        result = []\n",
    "        for domain in domain_name:\n",
    "            result += glob.glob(path + f'*{domain}*{gender}.nii.gz')\n",
    "        return result\n",
    "    \n",
    "# get_dataset_files('Dataset/Original/', ['philips_15', 'philips_3'])"
   ]
  },
  {
   "cell_type": "code",
   "execution_count": 4,
   "metadata": {},
   "outputs": [],
   "source": [
    "def scale_mri(image: np.ndarray, q_min: int = 1, q_max: int = 99) -> np.ndarray:\n",
    "    image = np.clip(np.float32(image), *np.percentile(np.float32(image), [q_min, q_max]))\n",
    "    image -= np.min(image)\n",
    "    image /= np.max(image)\n",
    "    return np.float32(image)\n",
    "\n",
    "def scale_factor(pict_id, df, new_vowel = (0.95, 0.95, 1)):\n",
    "    old_voxel_spacing = np.array([df['x'].loc[pict_id], df['y'].loc[pict_id], df['z'].loc[pict_id]])\n",
    "    scale_factor = old_voxel_spacing / new_vowel\n",
    "    return np.nan_to_num(scale_factor, nan=1)\n",
    "\n",
    "def change_2d(x, pict_id, df, spacing_order = 3, with_perc = False):\n",
    "    pict =  zoom(x, scale_factor(pict_id, df)[1:], order=spacing_order)  \n",
    "    return scale_mri(pict) if with_perc else pict\n",
    "\n",
    "def small_preprocessing(img_3d, inter = 10):\n",
    "    st, en = -1, -1\n",
    "    for idx, img in enumerate(img_3d):\n",
    "        if st == -1 and img.mean() > inter:\n",
    "            st = idx\n",
    "        elif img.mean() > inter:\n",
    "            en = idx\n",
    "    return st, en\n"
   ]
  },
  {
   "cell_type": "code",
   "execution_count": 5,
   "metadata": {},
   "outputs": [],
   "source": [
    "def data_preparing(img, file_id, df):\n",
    "    img_list = []\n",
    "    st, en = small_preprocessing(img)\n",
    "\n",
    "    img = img[st:en, ...]\n",
    "    dim_size, _, _ = img.shape\n",
    "\n",
    "    for pos in range(dim_size):\n",
    "        res_img = img[pos, ...]\n",
    "        im = (change_2d(res_img, file_id, df, with_perc = True) * 255).astype(np.uint8)\n",
    "        img_list.append(im)\n",
    "    \n",
    "    return img_list"
   ]
  },
  {
   "cell_type": "code",
   "execution_count": 6,
   "metadata": {},
   "outputs": [],
   "source": [
    "def create_dataframe(old_csv_name):\n",
    "    old_df = pd.read_csv(old_csv_name)\n",
    "    old_df.set_index('id', inplace=True)\n",
    "    return old_df[['x', 'y', 'z']]"
   ]
  },
  {
   "cell_type": "code",
   "execution_count": 7,
   "metadata": {},
   "outputs": [],
   "source": [
    "def get_dataset_files(path, domain_name, gender='*'):\n",
    "    if type(domain_name) == 'str':\n",
    "        return glob.glob(path + f'*{domain_name}*{gender}.nii.gz')\n",
    "    else:\n",
    "        result = []\n",
    "        for domain in domain_name:\n",
    "            result += glob.glob(path + f'*{domain}*{gender}.nii.gz')\n",
    "        return result\n",
    "    \n",
    "def finite_save(save_path):\n",
    "    path_list = save_path.split(os.sep)\n",
    "    current = '.'\n",
    "    \n",
    "    if os.path.exists(save_path) and len(os.listdir(save_path)):\n",
    "        shutil.rmtree(save_path)\n",
    "    \n",
    "    \n",
    "    for elem in path_list:\n",
    "        current += os.sep + elem\n",
    "        if not os.path.exists(current):\n",
    "            os.mkdir(current)\n",
    "\n",
    "    \n",
    "def save_to_nii(net, path_to_weight_dict, save_path, dataset_files, path_to_csv = 'meta.csv', device='cpu', \n",
    "                force_save = False, itt = 'z', sigm_value = 0.5, size = (256, 256)):\n",
    "    \n",
    "    roll_dict = {'z':0, 'y':1, 'x':2}\n",
    "    if itt not in roll_dict:\n",
    "        print('Wrong itteration value')\n",
    "        return\n",
    "    \n",
    "    df = create_dataframe(path_to_csv)\n",
    "    transf = transforms.Compose([transforms.Resize([size[0], size[1]]), transforms.PILToTensor()])\n",
    "    \n",
    "    net.load_state_dict(torch.load(path_to_weight_dict, map_location=device))\n",
    "    net.eval()\n",
    "\n",
    "    if force_save:\n",
    "        finite_save(save_path)\n",
    "    \n",
    "    with torch.no_grad():        \n",
    "        for brain in dataset_files:\n",
    "            #Get image name for saving\n",
    "            filename = os.path.basename(brain)\n",
    "            \n",
    "            #We have troubles because of two dots in filename\n",
    "            filename = filename[:filename.find('.')]\n",
    "            file_id = filename[:filename.find('_')]\n",
    "            \n",
    "            brain_3d_img = nib.load(brain)\n",
    "            brain_affine = brain_3d_img.affine\n",
    "            \n",
    "            brain_3d_img = np.array(brain_3d_img.dataobj)\n",
    "            brain_3d_img = np.rollaxis(brain_3d_img, roll_dict[itt])\n",
    "\n",
    "            img_list = data_preparing(brain_3d_img, file_id, df)\n",
    "            mask_3d_save = np.zeros(shape=(len(img_list), size[0], size[1]))\n",
    "            for level, img in enumerate(tqdm(img_list)):\n",
    "                img = transf(Image.fromarray(img))\n",
    "#                 img = torch.from_numpy(img)\n",
    "                img = img.to(device).float()\n",
    "\n",
    "                # Maybe pass function is better?\n",
    "                mask = net(img[None, ...].float()).sigmoid() > sigm_value\n",
    "                mask_3d_save[level, ...] = mask\n",
    "                        \n",
    "            img = nib.Nifti1Image(mask_3d_save, brain_affine)\n",
    "            nib.save(img, save_path + filename + '_predicted' + '.nii.gz')  \n",
    "\n",
    "            \n",
    "# net = UNet(n_channels=1, n_classes=1,\n",
    "#            init_features=32, depth=3,\n",
    "#            image_size=(256, 256), fourier_params = None).to('cpu')\n",
    "# test_file = ['Dataset/Original/CC0001_philips_15_55_M.nii.gz']\n",
    "# save_to_nii(net, 'UNet_fourier_None.best.pth', 'test/', test_file, itt= 'y')"
   ]
  },
  {
   "cell_type": "code",
   "execution_count": null,
   "metadata": {},
   "outputs": [],
   "source": []
  },
  {
   "cell_type": "code",
   "execution_count": 65,
   "metadata": {},
   "outputs": [],
   "source": [
    "weights = torch.load(\n",
    "    '/raid/data/saved_models/StyleGAN_DA_sm15->ge3_200000.pt',\n",
    "    map_location=\"cpu\"\n",
    ")\n"
   ]
  },
  {
   "cell_type": "code",
   "execution_count": 66,
   "metadata": {},
   "outputs": [
    {
     "data": {
      "text/plain": [
       "<All keys matched successfully>"
      ]
     },
     "execution_count": 66,
     "metadata": {},
     "output_type": "execute_result"
    }
   ],
   "source": [
    "image_generator = Generator(FromStyleConditionalGenerator(256, 512, style_multiplayer=1)).cuda()\n",
    "\n",
    "decoder = Decoder(image_generator).cuda()\n",
    "decoder.load_state_dict(weights['dec'])\n",
    "\n",
    "style_enc = GradualStyleEncoder(50, 3, mode=\"ir\", style_count=14, style_multiplayer=1).cuda()\n",
    "style_enc.load_state_dict(weights['enc'])\n",
    "\n",
    "\n",
    "style_transform = StyleTransform().cuda()\n",
    "style_transform.load_state_dict(weights['st_trfm'])\n",
    "\n",
    "style_disc = StyleDisc().cuda()\n",
    "style_disc.load_state_dict(weights['st_disc'])"
   ]
  },
  {
   "cell_type": "code",
   "execution_count": 67,
   "metadata": {},
   "outputs": [
    {
     "data": {
      "text/plain": [
       "StyleDisc(\n",
       "  (progressija): ProgressiveWithoutState(\n",
       "    (0): EqualLinear(512, 512)\n",
       "    (1): EqualLinear(1024, 512)\n",
       "    (2): EqualLinear(1024, 512)\n",
       "    (3): EqualLinear(1024, 512)\n",
       "    (4): EqualLinear(1024, 512)\n",
       "    (5): EqualLinear(1024, 512)\n",
       "    (6): EqualLinear(1024, 512)\n",
       "    (7): EqualLinear(1024, 512)\n",
       "    (8): EqualLinear(1024, 512)\n",
       "    (9): EqualLinear(1024, 512)\n",
       "    (10): EqualLinear(1024, 512)\n",
       "    (11): EqualLinear(1024, 512)\n",
       "    (12): EqualLinear(1024, 512)\n",
       "    (13): EqualLinear(1024, 512)\n",
       "  )\n",
       "  (head): Sequential(\n",
       "    (0): EqualLinear(512, 512)\n",
       "    (1): EqualLinear(512, 1)\n",
       "  )\n",
       ")"
      ]
     },
     "execution_count": 67,
     "metadata": {},
     "output_type": "execute_result"
    }
   ],
   "source": [
    "decoder.eval()\n",
    "style_enc.eval()\n",
    "style_transform.eval()\n",
    "style_disc.eval()"
   ]
  },
  {
   "cell_type": "code",
   "execution_count": 18,
   "metadata": {},
   "outputs": [
    {
     "ename": "NameError",
     "evalue": "name 'image_x' is not defined",
     "output_type": "error",
     "traceback": [
      "\u001b[0;31m---------------------------------------------------------------------------\u001b[0m",
      "\u001b[0;31mNameError\u001b[0m                                 Traceback (most recent call last)",
      "\u001b[0;32m<ipython-input-18-974cf6fcdc74>\u001b[0m in \u001b[0;36m<module>\u001b[0;34m\u001b[0m\n\u001b[1;32m      1\u001b[0m \u001b[0;32mwith\u001b[0m \u001b[0mtorch\u001b[0m\u001b[0;34m.\u001b[0m\u001b[0mno_grad\u001b[0m\u001b[0;34m(\u001b[0m\u001b[0;34m)\u001b[0m\u001b[0;34m:\u001b[0m\u001b[0;34m\u001b[0m\u001b[0;34m\u001b[0m\u001b[0m\n\u001b[0;32m----> 2\u001b[0;31m     \u001b[0mlatent_x\u001b[0m \u001b[0;34m=\u001b[0m \u001b[0mstyle_enc\u001b[0m\u001b[0;34m(\u001b[0m\u001b[0mimage_x\u001b[0m\u001b[0;34m)\u001b[0m\u001b[0;34m.\u001b[0m\u001b[0mdetach\u001b[0m\u001b[0;34m(\u001b[0m\u001b[0;34m)\u001b[0m\u001b[0;34m\u001b[0m\u001b[0;34m\u001b[0m\u001b[0m\n\u001b[0m\u001b[1;32m      3\u001b[0m     \u001b[0mfake_style\u001b[0m \u001b[0;34m=\u001b[0m \u001b[0mstyle_transform\u001b[0m\u001b[0;34m(\u001b[0m\u001b[0mlatent_x\u001b[0m\u001b[0;34m)\u001b[0m\u001b[0;34m\u001b[0m\u001b[0;34m\u001b[0m\u001b[0m\n\u001b[1;32m      4\u001b[0m     \u001b[0mfake_image\u001b[0m \u001b[0;34m=\u001b[0m \u001b[0mdecoder\u001b[0m\u001b[0;34m.\u001b[0m\u001b[0mforward\u001b[0m\u001b[0;34m(\u001b[0m\u001b[0;34m[\u001b[0m\u001b[0mfake_style\u001b[0m\u001b[0;34m[\u001b[0m\u001b[0;34m:\u001b[0m\u001b[0;34m,\u001b[0m \u001b[0mk\u001b[0m\u001b[0;34m]\u001b[0m \u001b[0;32mfor\u001b[0m \u001b[0mk\u001b[0m \u001b[0;32min\u001b[0m \u001b[0mrange\u001b[0m\u001b[0;34m(\u001b[0m\u001b[0mfake_style\u001b[0m\u001b[0;34m.\u001b[0m\u001b[0mshape\u001b[0m\u001b[0;34m[\u001b[0m\u001b[0;36m1\u001b[0m\u001b[0;34m]\u001b[0m\u001b[0;34m)\u001b[0m\u001b[0;34m]\u001b[0m\u001b[0;34m)\u001b[0m\u001b[0;34m\u001b[0m\u001b[0;34m\u001b[0m\u001b[0m\n",
      "\u001b[0;31mNameError\u001b[0m: name 'image_x' is not defined"
     ]
    }
   ],
   "source": [
    "# with torch.no_grad():\n",
    "    latent_x = style_enc(image_x).detach()\n",
    "    fake_style = style_transform(latent_x)\n",
    "    fake_image = decoder.forward([fake_style[:, k] for k in range(fake_style.shape[1])])"
   ]
  },
  {
   "cell_type": "code",
   "execution_count": null,
   "metadata": {},
   "outputs": [],
   "source": [
    "def get_dataset_files(path, domain_name, gender='*'):\n",
    "    if type(domain_name) == 'str':\n",
    "        return glob.glob(path + f'*{domain_name}*{gender}.nii.gz')\n",
    "    else:\n",
    "        result = []\n",
    "        for domain in domain_name:\n",
    "            result += glob.glob(path + f'*{domain}*{gender}.nii.gz')\n",
    "        return result"
   ]
  },
  {
   "cell_type": "code",
   "execution_count": 57,
   "metadata": {},
   "outputs": [],
   "source": [
    "data_list = get_dataset_files('/raid/data/DA_BrainDataset/Dataset/Original/', 'siemens_3')"
   ]
  },
  {
   "cell_type": "code",
   "execution_count": 68,
   "metadata": {},
   "outputs": [],
   "source": [
    "data_list = (glob.glob('/raid/data/DA_BrainDataset/Dataset/Original/*siemens_15*.nii.gz'))"
   ]
  },
  {
   "cell_type": "code",
   "execution_count": 69,
   "metadata": {},
   "outputs": [
    {
     "data": {
      "text/plain": [
       "60"
      ]
     },
     "execution_count": 69,
     "metadata": {},
     "output_type": "execute_result"
    }
   ],
   "source": [
    "len(data_list)"
   ]
  },
  {
   "cell_type": "code",
   "execution_count": 70,
   "metadata": {},
   "outputs": [],
   "source": [
    "def norm_ip(img, low, high):\n",
    "    img.clamp_(min=low, max=high)\n",
    "    img.sub_(low).div_(max(high - low, 1e-5))\n",
    "\n",
    "def norm_range(t, value_range):\n",
    "    if value_range is not None:\n",
    "        norm_ip(t, value_range[0], value_range[1])\n",
    "    else:\n",
    "        norm_ip(t, float(t.min()), float(t.max()))"
   ]
  },
  {
   "cell_type": "code",
   "execution_count": 71,
   "metadata": {
    "scrolled": true
   },
   "outputs": [
    {
     "name": "stdout",
     "output_type": "stream",
     "text": [
      "0/60\n"
     ]
    },
    {
     "name": "stderr",
     "output_type": "stream",
     "text": [
      "100%|██████████| 175/175 [00:08<00:00, 21.31it/s]\n"
     ]
    },
    {
     "name": "stdout",
     "output_type": "stream",
     "text": [
      "1/60\n"
     ]
    },
    {
     "name": "stderr",
     "output_type": "stream",
     "text": [
      "100%|██████████| 174/174 [00:08<00:00, 21.31it/s]\n"
     ]
    },
    {
     "name": "stdout",
     "output_type": "stream",
     "text": [
      "2/60\n"
     ]
    },
    {
     "name": "stderr",
     "output_type": "stream",
     "text": [
      "100%|██████████| 161/161 [00:07<00:00, 21.34it/s]\n"
     ]
    },
    {
     "name": "stdout",
     "output_type": "stream",
     "text": [
      "3/60\n"
     ]
    },
    {
     "name": "stderr",
     "output_type": "stream",
     "text": [
      "100%|██████████| 180/180 [00:08<00:00, 21.35it/s]\n"
     ]
    },
    {
     "name": "stdout",
     "output_type": "stream",
     "text": [
      "4/60\n"
     ]
    },
    {
     "name": "stderr",
     "output_type": "stream",
     "text": [
      "100%|██████████| 160/160 [00:07<00:00, 21.34it/s]\n"
     ]
    },
    {
     "name": "stdout",
     "output_type": "stream",
     "text": [
      "5/60\n"
     ]
    },
    {
     "name": "stderr",
     "output_type": "stream",
     "text": [
      "100%|██████████| 156/156 [00:07<00:00, 21.30it/s]\n"
     ]
    },
    {
     "name": "stdout",
     "output_type": "stream",
     "text": [
      "6/60\n"
     ]
    },
    {
     "name": "stderr",
     "output_type": "stream",
     "text": [
      "100%|██████████| 169/169 [00:07<00:00, 21.34it/s]\n"
     ]
    },
    {
     "name": "stdout",
     "output_type": "stream",
     "text": [
      "7/60\n"
     ]
    },
    {
     "name": "stderr",
     "output_type": "stream",
     "text": [
      "100%|██████████| 161/161 [00:07<00:00, 21.34it/s]\n"
     ]
    },
    {
     "name": "stdout",
     "output_type": "stream",
     "text": [
      "8/60\n"
     ]
    },
    {
     "name": "stderr",
     "output_type": "stream",
     "text": [
      "100%|██████████| 164/164 [00:07<00:00, 21.32it/s]\n"
     ]
    },
    {
     "name": "stdout",
     "output_type": "stream",
     "text": [
      "9/60\n"
     ]
    },
    {
     "name": "stderr",
     "output_type": "stream",
     "text": [
      "100%|██████████| 177/177 [00:08<00:00, 21.48it/s]\n"
     ]
    },
    {
     "name": "stdout",
     "output_type": "stream",
     "text": [
      "10/60\n"
     ]
    },
    {
     "name": "stderr",
     "output_type": "stream",
     "text": [
      "100%|██████████| 191/191 [00:08<00:00, 21.60it/s]\n"
     ]
    },
    {
     "name": "stdout",
     "output_type": "stream",
     "text": [
      "11/60\n"
     ]
    },
    {
     "name": "stderr",
     "output_type": "stream",
     "text": [
      "100%|██████████| 169/169 [00:07<00:00, 21.61it/s]\n"
     ]
    },
    {
     "name": "stdout",
     "output_type": "stream",
     "text": [
      "12/60\n"
     ]
    },
    {
     "name": "stderr",
     "output_type": "stream",
     "text": [
      "100%|██████████| 161/161 [00:07<00:00, 21.60it/s]\n"
     ]
    },
    {
     "name": "stdout",
     "output_type": "stream",
     "text": [
      "13/60\n"
     ]
    },
    {
     "name": "stderr",
     "output_type": "stream",
     "text": [
      "100%|██████████| 162/162 [00:07<00:00, 21.56it/s]\n"
     ]
    },
    {
     "name": "stdout",
     "output_type": "stream",
     "text": [
      "14/60\n"
     ]
    },
    {
     "name": "stderr",
     "output_type": "stream",
     "text": [
      "100%|██████████| 160/160 [00:07<00:00, 21.60it/s]\n"
     ]
    },
    {
     "name": "stdout",
     "output_type": "stream",
     "text": [
      "15/60\n"
     ]
    },
    {
     "name": "stderr",
     "output_type": "stream",
     "text": [
      "100%|██████████| 165/165 [00:07<00:00, 21.61it/s]\n"
     ]
    },
    {
     "name": "stdout",
     "output_type": "stream",
     "text": [
      "16/60\n"
     ]
    },
    {
     "name": "stderr",
     "output_type": "stream",
     "text": [
      "100%|██████████| 186/186 [00:08<00:00, 21.60it/s]\n"
     ]
    },
    {
     "name": "stdout",
     "output_type": "stream",
     "text": [
      "17/60\n"
     ]
    },
    {
     "name": "stderr",
     "output_type": "stream",
     "text": [
      "100%|██████████| 169/169 [00:07<00:00, 21.57it/s]\n"
     ]
    },
    {
     "name": "stdout",
     "output_type": "stream",
     "text": [
      "18/60\n"
     ]
    },
    {
     "name": "stderr",
     "output_type": "stream",
     "text": [
      "100%|██████████| 176/176 [00:08<00:00, 21.60it/s]\n"
     ]
    },
    {
     "name": "stdout",
     "output_type": "stream",
     "text": [
      "19/60\n"
     ]
    },
    {
     "name": "stderr",
     "output_type": "stream",
     "text": [
      "100%|██████████| 166/166 [00:07<00:00, 21.60it/s]\n"
     ]
    },
    {
     "name": "stdout",
     "output_type": "stream",
     "text": [
      "20/60\n"
     ]
    },
    {
     "name": "stderr",
     "output_type": "stream",
     "text": [
      "100%|██████████| 181/181 [00:08<00:00, 21.59it/s]\n"
     ]
    },
    {
     "name": "stdout",
     "output_type": "stream",
     "text": [
      "21/60\n"
     ]
    },
    {
     "name": "stderr",
     "output_type": "stream",
     "text": [
      "100%|██████████| 172/172 [00:07<00:00, 21.56it/s]\n"
     ]
    },
    {
     "name": "stdout",
     "output_type": "stream",
     "text": [
      "22/60\n"
     ]
    },
    {
     "name": "stderr",
     "output_type": "stream",
     "text": [
      "100%|██████████| 173/173 [00:08<00:00, 21.59it/s]\n"
     ]
    },
    {
     "name": "stdout",
     "output_type": "stream",
     "text": [
      "23/60\n"
     ]
    },
    {
     "name": "stderr",
     "output_type": "stream",
     "text": [
      "100%|██████████| 148/148 [00:06<00:00, 21.60it/s]\n"
     ]
    },
    {
     "name": "stdout",
     "output_type": "stream",
     "text": [
      "24/60\n"
     ]
    },
    {
     "name": "stderr",
     "output_type": "stream",
     "text": [
      "100%|██████████| 170/170 [00:07<00:00, 21.60it/s]\n"
     ]
    },
    {
     "name": "stdout",
     "output_type": "stream",
     "text": [
      "25/60\n"
     ]
    },
    {
     "name": "stderr",
     "output_type": "stream",
     "text": [
      "100%|██████████| 159/159 [00:07<00:00, 21.57it/s]\n"
     ]
    },
    {
     "name": "stdout",
     "output_type": "stream",
     "text": [
      "26/60\n"
     ]
    },
    {
     "name": "stderr",
     "output_type": "stream",
     "text": [
      "100%|██████████| 165/165 [00:07<00:00, 21.60it/s]\n"
     ]
    },
    {
     "name": "stdout",
     "output_type": "stream",
     "text": [
      "27/60\n"
     ]
    },
    {
     "name": "stderr",
     "output_type": "stream",
     "text": [
      "100%|██████████| 168/168 [00:07<00:00, 21.51it/s]\n"
     ]
    },
    {
     "name": "stdout",
     "output_type": "stream",
     "text": [
      "28/60\n"
     ]
    },
    {
     "name": "stderr",
     "output_type": "stream",
     "text": [
      "100%|██████████| 162/162 [00:07<00:00, 21.35it/s]\n"
     ]
    },
    {
     "name": "stdout",
     "output_type": "stream",
     "text": [
      "29/60\n"
     ]
    },
    {
     "name": "stderr",
     "output_type": "stream",
     "text": [
      "100%|██████████| 158/158 [00:07<00:00, 21.30it/s]\n"
     ]
    },
    {
     "name": "stdout",
     "output_type": "stream",
     "text": [
      "30/60\n"
     ]
    },
    {
     "name": "stderr",
     "output_type": "stream",
     "text": [
      "100%|██████████| 170/170 [00:07<00:00, 21.35it/s]\n"
     ]
    },
    {
     "name": "stdout",
     "output_type": "stream",
     "text": [
      "31/60\n"
     ]
    },
    {
     "name": "stderr",
     "output_type": "stream",
     "text": [
      "100%|██████████| 181/181 [00:08<00:00, 21.36it/s]\n"
     ]
    },
    {
     "name": "stdout",
     "output_type": "stream",
     "text": [
      "32/60\n"
     ]
    },
    {
     "name": "stderr",
     "output_type": "stream",
     "text": [
      "100%|██████████| 161/161 [00:07<00:00, 21.35it/s]\n"
     ]
    },
    {
     "name": "stdout",
     "output_type": "stream",
     "text": [
      "33/60\n"
     ]
    },
    {
     "name": "stderr",
     "output_type": "stream",
     "text": [
      "100%|██████████| 164/164 [00:07<00:00, 21.32it/s]\n"
     ]
    },
    {
     "name": "stdout",
     "output_type": "stream",
     "text": [
      "34/60\n"
     ]
    },
    {
     "name": "stderr",
     "output_type": "stream",
     "text": [
      "100%|██████████| 191/191 [00:08<00:00, 21.35it/s]\n"
     ]
    },
    {
     "name": "stdout",
     "output_type": "stream",
     "text": [
      "35/60\n"
     ]
    },
    {
     "name": "stderr",
     "output_type": "stream",
     "text": [
      "100%|██████████| 156/156 [00:07<00:00, 21.35it/s]\n"
     ]
    },
    {
     "name": "stdout",
     "output_type": "stream",
     "text": [
      "36/60\n"
     ]
    },
    {
     "name": "stderr",
     "output_type": "stream",
     "text": [
      "100%|██████████| 175/175 [00:08<00:00, 21.35it/s]\n"
     ]
    },
    {
     "name": "stdout",
     "output_type": "stream",
     "text": [
      "37/60\n"
     ]
    },
    {
     "name": "stderr",
     "output_type": "stream",
     "text": [
      "100%|██████████| 190/190 [00:08<00:00, 21.31it/s]\n"
     ]
    },
    {
     "name": "stdout",
     "output_type": "stream",
     "text": [
      "38/60\n"
     ]
    },
    {
     "name": "stderr",
     "output_type": "stream",
     "text": [
      "100%|██████████| 149/149 [00:06<00:00, 21.35it/s]\n"
     ]
    },
    {
     "name": "stdout",
     "output_type": "stream",
     "text": [
      "39/60\n"
     ]
    },
    {
     "name": "stderr",
     "output_type": "stream",
     "text": [
      "100%|██████████| 173/173 [00:08<00:00, 21.37it/s]\n"
     ]
    },
    {
     "name": "stdout",
     "output_type": "stream",
     "text": [
      "40/60\n"
     ]
    },
    {
     "name": "stderr",
     "output_type": "stream",
     "text": [
      "100%|██████████| 171/171 [00:08<00:00, 21.36it/s]\n"
     ]
    },
    {
     "name": "stdout",
     "output_type": "stream",
     "text": [
      "41/60\n"
     ]
    },
    {
     "name": "stderr",
     "output_type": "stream",
     "text": [
      "100%|██████████| 174/174 [00:08<00:00, 21.33it/s]\n"
     ]
    },
    {
     "name": "stdout",
     "output_type": "stream",
     "text": [
      "42/60\n"
     ]
    },
    {
     "name": "stderr",
     "output_type": "stream",
     "text": [
      "100%|██████████| 179/179 [00:08<00:00, 21.36it/s]\n"
     ]
    },
    {
     "name": "stdout",
     "output_type": "stream",
     "text": [
      "43/60\n"
     ]
    },
    {
     "name": "stderr",
     "output_type": "stream",
     "text": [
      "100%|██████████| 180/180 [00:08<00:00, 21.36it/s]\n"
     ]
    },
    {
     "name": "stdout",
     "output_type": "stream",
     "text": [
      "44/60\n"
     ]
    },
    {
     "name": "stderr",
     "output_type": "stream",
     "text": [
      "100%|██████████| 190/190 [00:08<00:00, 21.35it/s]\n"
     ]
    },
    {
     "name": "stdout",
     "output_type": "stream",
     "text": [
      "45/60\n"
     ]
    },
    {
     "name": "stderr",
     "output_type": "stream",
     "text": [
      "100%|██████████| 180/180 [00:08<00:00, 21.33it/s]\n"
     ]
    },
    {
     "name": "stdout",
     "output_type": "stream",
     "text": [
      "46/60\n"
     ]
    },
    {
     "name": "stderr",
     "output_type": "stream",
     "text": [
      "100%|██████████| 157/157 [00:07<00:00, 21.35it/s]\n"
     ]
    },
    {
     "name": "stdout",
     "output_type": "stream",
     "text": [
      "47/60\n"
     ]
    },
    {
     "name": "stderr",
     "output_type": "stream",
     "text": [
      "100%|██████████| 173/173 [00:08<00:00, 21.36it/s]\n"
     ]
    },
    {
     "name": "stdout",
     "output_type": "stream",
     "text": [
      "48/60\n"
     ]
    },
    {
     "name": "stderr",
     "output_type": "stream",
     "text": [
      "100%|██████████| 145/145 [00:06<00:00, 21.35it/s]\n"
     ]
    },
    {
     "name": "stdout",
     "output_type": "stream",
     "text": [
      "49/60\n"
     ]
    },
    {
     "name": "stderr",
     "output_type": "stream",
     "text": [
      "100%|██████████| 178/178 [00:08<00:00, 21.33it/s]\n"
     ]
    },
    {
     "name": "stdout",
     "output_type": "stream",
     "text": [
      "50/60\n"
     ]
    },
    {
     "name": "stderr",
     "output_type": "stream",
     "text": [
      "100%|██████████| 191/191 [00:08<00:00, 21.36it/s]\n"
     ]
    },
    {
     "name": "stdout",
     "output_type": "stream",
     "text": [
      "51/60\n"
     ]
    },
    {
     "name": "stderr",
     "output_type": "stream",
     "text": [
      "100%|██████████| 160/160 [00:07<00:00, 21.37it/s]\n"
     ]
    },
    {
     "name": "stdout",
     "output_type": "stream",
     "text": [
      "52/60\n"
     ]
    },
    {
     "name": "stderr",
     "output_type": "stream",
     "text": [
      "100%|██████████| 177/177 [00:08<00:00, 21.35it/s]\n"
     ]
    },
    {
     "name": "stdout",
     "output_type": "stream",
     "text": [
      "53/60\n"
     ]
    },
    {
     "name": "stderr",
     "output_type": "stream",
     "text": [
      "100%|██████████| 178/178 [00:08<00:00, 21.33it/s]\n"
     ]
    },
    {
     "name": "stdout",
     "output_type": "stream",
     "text": [
      "54/60\n"
     ]
    },
    {
     "name": "stderr",
     "output_type": "stream",
     "text": [
      "100%|██████████| 160/160 [00:07<00:00, 21.35it/s]\n"
     ]
    },
    {
     "name": "stdout",
     "output_type": "stream",
     "text": [
      "55/60\n"
     ]
    },
    {
     "name": "stderr",
     "output_type": "stream",
     "text": [
      "100%|██████████| 173/173 [00:08<00:00, 21.36it/s]\n"
     ]
    },
    {
     "name": "stdout",
     "output_type": "stream",
     "text": [
      "56/60\n"
     ]
    },
    {
     "name": "stderr",
     "output_type": "stream",
     "text": [
      "100%|██████████| 163/163 [00:07<00:00, 21.36it/s]\n"
     ]
    },
    {
     "name": "stdout",
     "output_type": "stream",
     "text": [
      "57/60\n"
     ]
    },
    {
     "name": "stderr",
     "output_type": "stream",
     "text": [
      "100%|██████████| 166/166 [00:07<00:00, 21.32it/s]\n"
     ]
    },
    {
     "name": "stdout",
     "output_type": "stream",
     "text": [
      "58/60\n"
     ]
    },
    {
     "name": "stderr",
     "output_type": "stream",
     "text": [
      "100%|██████████| 160/160 [00:07<00:00, 21.36it/s]\n"
     ]
    },
    {
     "name": "stdout",
     "output_type": "stream",
     "text": [
      "59/60\n"
     ]
    },
    {
     "name": "stderr",
     "output_type": "stream",
     "text": [
      "100%|██████████| 157/157 [00:07<00:00, 21.36it/s]\n"
     ]
    }
   ],
   "source": [
    "path_to_csv = '/raid/data/DA_BrainDataset/meta.csv'\n",
    "device='cuda'\n",
    "force_save = False\n",
    "itt = 'z'\n",
    "sigm_value = 0.5\n",
    "size = (256, 256)\n",
    "save_path = '/raid/data/DA_BrainDataset/predictions/sm15_to_ge3/'\n",
    "\n",
    "roll_dict = {'z':0, 'y':1, 'x':2}\n",
    "if itt not in roll_dict:\n",
    "    print('Wrong itteration value')\n",
    "#     return\n",
    "    \n",
    "df = create_dataframe(path_to_csv)\n",
    "transf = transforms.Compose([transforms.Resize([size[0], size[1]]), transforms.PILToTensor()])\n",
    "    \n",
    "\n",
    "if force_save:\n",
    "    finite_save(save_path)\n",
    "\n",
    "dataset_files = glob.glob('/raid/data/DA_BrainDataset/Dataset/Original/*siemens_15*.nii.gz')\n",
    "    \n",
    "with torch.no_grad():        \n",
    "    for number, brain in enumerate(dataset_files):\n",
    "        print(f'{number}/{len(dataset_files)}')\n",
    "        #Get image name for saving\n",
    "#         brain = dataset_files[74]\n",
    "        filename = os.path.basename(brain)\n",
    "\n",
    "        #We have troubles because of two dots in filename\n",
    "        filename = filename[:filename.find('.')]\n",
    "        file_id = filename[:filename.find('_')]\n",
    "\n",
    "        brain_3d_img = nib.load(brain)\n",
    "        brain_affine = brain_3d_img.affine\n",
    "\n",
    "        brain_3d_img = np.array(brain_3d_img.dataobj)\n",
    "        brain_3d_img = np.rollaxis(brain_3d_img, roll_dict[itt])\n",
    "\n",
    "        img_list = data_preparing(brain_3d_img, file_id, df)\n",
    "        mask_3d_save = np.zeros(shape=(len(img_list), size[0], size[1]))\n",
    "        for level, img in enumerate(tqdm(img_list)):\n",
    "#             print(len(img_list))\n",
    "            img = transf(Image.fromarray(img))\n",
    "            img = img.to(device).float()[None, ...].repeat(1, 3, 1, 1)\n",
    "            img = (img - img.min())/img.max()\n",
    "#             print(f'RES shape:{img[0,0].shape}, max:{img[0,0].max()}, min:{img[0,0].min()} ')\n",
    "#             print(type(img))\n",
    "            latent_x = style_enc(img).detach()\n",
    "            fake_style = style_transform(latent_x)\n",
    "            fake_image = decoder.forward([fake_style[:, k] for k in range(fake_style.shape[1])])\n",
    "#             print(fake_image[0, 0].shape)\n",
    "#             print(fake_image[0, 0].max())\n",
    "#             print(fake_image[0, 0].min())\n",
    "            res = fake_image[0,0].detach().clamp(min=0)\n",
    "            res = (res - res.min())/res.max()\n",
    "            res = res.to('cpu').numpy()\n",
    "#             break\n",
    "#             res = img[0,0]\n",
    "#             print(f'RES shape:{res.shape}, max:{res.max()}, min:{res.min()} ')\n",
    "###             norm_range(res, value_range=(-1, 1))\n",
    "#             print(f'RES shape:{img[0,0].shape}, max:{img[0,0].max()}, min:{img[0,0].min()} ')\n",
    "#             print(f'RES shape:{res.shape}, max:{res.max()}, min:{res.min()} ')\n",
    "#             f, axarr = plt.subplots(1,2)\n",
    "#             axarr[0].imshow(img[0,0].to('cpu').numpy())\n",
    "#             axarr[1].imshow(res.to('cpu').numpy())\n",
    "#             break\n",
    "\n",
    "#             # Maybe pass function is better?\n",
    "#             mask = net(img[None, ...].float()).sigmoid() > sigm_value\n",
    "            mask_3d_save[level, ...] = res[None,None, ...]\n",
    "#         print(mask_3d_save.shape)\n",
    "        img = nib.Nifti1Image(mask_3d_save, brain_affine)\n",
    "        nib.save(img, save_path + filename + '_predicted' + '.nii.gz')  \n",
    "\n",
    "#         img = nib.Nifti1Image(mask_3d_save, brain_affine)\n",
    "#         nib.save(img, save_path + filename + '_predicted' + '.nii.gz')  "
   ]
  },
  {
   "cell_type": "code",
   "execution_count": 34,
   "metadata": {},
   "outputs": [
    {
     "name": "stdout",
     "output_type": "stream",
     "text": [
      "[[   1.            0.            0.          -94.24698639]\n",
      " [   0.            1.            0.         -109.45782471]\n",
      " [   0.            0.            1.         -127.        ]\n",
      " [   0.            0.            0.            1.        ]]\n",
      "(192, 256, 256)\n"
     ]
    },
    {
     "name": "stderr",
     "output_type": "stream",
     "text": [
      "  0%|          | 0/192 [00:00<?, ?it/s]"
     ]
    },
    {
     "name": "stdout",
     "output_type": "stream",
     "text": [
      "QQ torch.Size([256, 256])\n",
      "qq torch.Size([1, 14, 512])\n",
      "q torch.Size([1, 14, 512])\n",
      "torch.Size([1, 512, 4, 4])\n",
      "torch.Size([1, 512, 8, 8])\n",
      "torch.Size([1, 512, 8, 8])\n",
      "torch.Size([1, 256, 16, 16])\n",
      "torch.Size([1, 256, 16, 16])\n",
      "torch.Size([1, 256, 32, 32])\n",
      "torch.Size([1, 256, 32, 32])\n",
      "torch.Size([1, 256, 64, 64])\n",
      "torch.Size([1, 256, 64, 64])\n",
      "torch.Size([1, 128, 128, 128])\n",
      "torch.Size([1, 128, 128, 128])\n",
      "torch.Size([1, 64, 256, 256])\n",
      "torch.Size([1, 64, 256, 256])\n",
      "torch.Size([1, 32, 512, 512])\n",
      "torch.Size([1, 32, 512, 512])\n",
      "QWA torch.Size([1, 3, 256, 256])\n"
     ]
    },
    {
     "name": "stderr",
     "output_type": "stream",
     "text": [
      "\n"
     ]
    }
   ],
   "source": [
    "for brain in data_list:\n",
    "            \n",
    "        filename = os.path.basename(brain)\n",
    "        filename = filename[:filename.find('.')] #We have troubles because of two dots in filename\n",
    "        brain_3d_img = nib.load(brain)\n",
    "        brain_affine = brain_3d_img.affine\n",
    "        print(brain_affine)\n",
    "        brain_3d_img = np.array(brain_3d_img.dataobj)\n",
    "\n",
    "        z, y, x = brain_3d_img.shape\n",
    "        print(brain_3d_img.shape)\n",
    "        mask_3d_save = np.zeros_like(brain_3d_img)\n",
    "\n",
    "\n",
    "        for level in tqdm(range(z)):\n",
    "            img = brain_3d_img[level, :, :]\n",
    "\n",
    "            img = torch.from_numpy(img)\n",
    "            img = img.float().cuda() #to(device).float()\n",
    "            \n",
    "            print(\"QQ\", img.shape)\n",
    "            \n",
    "            latent_x = style_enc(img[None, None,...]).detach()\n",
    "            print(\"qq\", latent_x.shape)\n",
    "            fake_style = style_transform(latent_x)\n",
    "            print(\"q\", fake_style.shape)\n",
    "            fake_image = decoder.forward([fake_style[:, k] for k in range(fake_style.shape[1])])\n",
    "            \n",
    "            print(\"QWA\", fake_image.shape)\n",
    "            break\n",
    "        break\n",
    "            # Maybe pass function is better?\n",
    "#             mask = net(img[None,None, ...].float()).sigmoid() > 0.8\n",
    "\n",
    "# #                 mask = net(img[None, None,...]).to(int).squeeze(0).squeeze(0)\n",
    "#             mask_3d_save[level,:,:] = mask\n",
    "\n",
    "# #             plt.imshow(mask_3d_save[120,:,:], cmap = 'gray')\n",
    "#         img = nib.Nifti1Image(mask_3d_save, brain_affine)\n",
    "#         break"
   ]
  },
  {
   "cell_type": "code",
   "execution_count": 29,
   "metadata": {},
   "outputs": [
    {
     "data": {
      "text/plain": [
       "(3, 256, 256)"
      ]
     },
     "execution_count": 29,
     "metadata": {},
     "output_type": "execute_result"
    }
   ],
   "source": [
    "fake_image[0].detach().to('cpu').numpy().shape"
   ]
  },
  {
   "cell_type": "code",
   "execution_count": 30,
   "metadata": {},
   "outputs": [
    {
     "name": "stderr",
     "output_type": "stream",
     "text": [
      "Clipping input data to the valid range for imshow with RGB data ([0..1] for floats or [0..255] for integers).\n"
     ]
    },
    {
     "data": {
      "text/plain": [
       "<matplotlib.image.AxesImage at 0x7f2508b13ba8>"
      ]
     },
     "execution_count": 30,
     "metadata": {},
     "output_type": "execute_result"
    },
    {
     "data": {
      "image/png": "[encoded data removed]",
      "text/plain": [
       "<Figure size 432x288 with 1 Axes>"
      ]
     },
     "metadata": {
      "needs_background": "light"
     },
     "output_type": "display_data"
    }
   ],
   "source": [
    "plt.imshow(fake_image[0].detach().to('cpu').permute(1,2,0).numpy())"
   ]
  },
  {
   "cell_type": "code",
   "execution_count": null,
   "metadata": {},
   "outputs": [],
   "source": []
  }
 ],
 "metadata": {
  "kernelspec": {
   "display_name": "Python 3",
   "language": "python",
   "name": "python3"
  },
  "language_info": {
   "codemirror_mode": {
    "name": "ipython",
    "version": 3
   },
   "file_extension": ".py",
   "mimetype": "text/x-python",
   "name": "python",
   "nbconvert_exporter": "python",
   "pygments_lexer": "ipython3",
   "version": "3.6.9"
  }
 },
 "nbformat": 4,
 "nbformat_minor": 4
}
